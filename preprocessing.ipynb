{
 "cells": [
  {
   "cell_type": "code",
   "execution_count": 4,
   "metadata": {},
   "outputs": [],
   "source": [
    "import numpy as np\n",
    "import pandas as pd\n",
    "import sys, re, os\n",
    "\n",
    "%config Completer.use_jedi = False"
   ]
  },
  {
   "cell_type": "code",
   "execution_count": 5,
   "metadata": {},
   "outputs": [
    {
     "data": {
      "text/html": [
       "<div>\n",
       "<style scoped>\n",
       "    .dataframe tbody tr th:only-of-type {\n",
       "        vertical-align: middle;\n",
       "    }\n",
       "\n",
       "    .dataframe tbody tr th {\n",
       "        vertical-align: top;\n",
       "    }\n",
       "\n",
       "    .dataframe thead th {\n",
       "        text-align: right;\n",
       "    }\n",
       "</style>\n",
       "<table border=\"1\" class=\"dataframe\">\n",
       "  <thead>\n",
       "    <tr style=\"text-align: right;\">\n",
       "      <th></th>\n",
       "      <th>Case_ID</th>\n",
       "      <th>frac1</th>\n",
       "      <th>frac2</th>\n",
       "      <th>frac3</th>\n",
       "      <th>OPdate</th>\n",
       "      <th>ABLEID</th>\n",
       "      <th>Age</th>\n",
       "      <th>Room</th>\n",
       "      <th>Sex</th>\n",
       "      <th>Ht</th>\n",
       "      <th>...</th>\n",
       "      <th>IHM</th>\n",
       "      <th>Final_IHM</th>\n",
       "      <th>HCC_SUD</th>\n",
       "      <th>Final_HCC</th>\n",
       "      <th>Recur_death</th>\n",
       "      <th>HCC_date</th>\n",
       "      <th>HCCrecur</th>\n",
       "      <th>HBV재발</th>\n",
       "      <th>HBV재발_date</th>\n",
       "      <th>SalvageLT</th>\n",
       "    </tr>\n",
       "  </thead>\n",
       "  <tbody>\n",
       "    <tr>\n",
       "      <th>0</th>\n",
       "      <td>0</td>\n",
       "      <td>0.0</td>\n",
       "      <td>0.0</td>\n",
       "      <td>NaN</td>\n",
       "      <td>2011-07-01</td>\n",
       "      <td>1195890799</td>\n",
       "      <td>49</td>\n",
       "      <td>D02</td>\n",
       "      <td>1</td>\n",
       "      <td>155.3</td>\n",
       "      <td>...</td>\n",
       "      <td>NaN</td>\n",
       "      <td>1.0</td>\n",
       "      <td>692.0</td>\n",
       "      <td>2.0</td>\n",
       "      <td>2013-05-23</td>\n",
       "      <td>2013-05-23</td>\n",
       "      <td>2.0</td>\n",
       "      <td>NaN</td>\n",
       "      <td>NaT</td>\n",
       "      <td>1.0</td>\n",
       "    </tr>\n",
       "    <tr>\n",
       "      <th>1</th>\n",
       "      <td>1</td>\n",
       "      <td>0.0</td>\n",
       "      <td>0.0</td>\n",
       "      <td>NaN</td>\n",
       "      <td>2011-07-05</td>\n",
       "      <td>1196102763</td>\n",
       "      <td>48</td>\n",
       "      <td>D02</td>\n",
       "      <td>2</td>\n",
       "      <td>166.6</td>\n",
       "      <td>...</td>\n",
       "      <td>NaN</td>\n",
       "      <td>1.0</td>\n",
       "      <td>771.0</td>\n",
       "      <td>2.0</td>\n",
       "      <td>2013-08-14</td>\n",
       "      <td>2013-08-14</td>\n",
       "      <td>2.0</td>\n",
       "      <td>2.0</td>\n",
       "      <td>2013-11-27</td>\n",
       "      <td>2.0</td>\n",
       "    </tr>\n",
       "    <tr>\n",
       "      <th>2</th>\n",
       "      <td>2</td>\n",
       "      <td>0.0</td>\n",
       "      <td>0.0</td>\n",
       "      <td>NaN</td>\n",
       "      <td>2011-07-05</td>\n",
       "      <td>1197701254</td>\n",
       "      <td>55</td>\n",
       "      <td>D06</td>\n",
       "      <td>2</td>\n",
       "      <td>168.3</td>\n",
       "      <td>...</td>\n",
       "      <td>NaN</td>\n",
       "      <td>1.0</td>\n",
       "      <td>119.0</td>\n",
       "      <td>2.0</td>\n",
       "      <td>2011-11-01</td>\n",
       "      <td>2011-11-01</td>\n",
       "      <td>2.0</td>\n",
       "      <td>NaN</td>\n",
       "      <td>NaT</td>\n",
       "      <td>1.0</td>\n",
       "    </tr>\n",
       "    <tr>\n",
       "      <th>3</th>\n",
       "      <td>3</td>\n",
       "      <td>0.0</td>\n",
       "      <td>0.0</td>\n",
       "      <td>NaN</td>\n",
       "      <td>2011-07-06</td>\n",
       "      <td>1197157572</td>\n",
       "      <td>42</td>\n",
       "      <td>D06</td>\n",
       "      <td>2</td>\n",
       "      <td>173.3</td>\n",
       "      <td>...</td>\n",
       "      <td>NaN</td>\n",
       "      <td>1.0</td>\n",
       "      <td>3159.0</td>\n",
       "      <td>1.0</td>\n",
       "      <td>NaT</td>\n",
       "      <td>NaT</td>\n",
       "      <td>NaN</td>\n",
       "      <td>NaN</td>\n",
       "      <td>NaT</td>\n",
       "      <td>1.0</td>\n",
       "    </tr>\n",
       "    <tr>\n",
       "      <th>4</th>\n",
       "      <td>4</td>\n",
       "      <td>0.0</td>\n",
       "      <td>0.0</td>\n",
       "      <td>NaN</td>\n",
       "      <td>2011-07-06</td>\n",
       "      <td>1183766718</td>\n",
       "      <td>57</td>\n",
       "      <td>D02</td>\n",
       "      <td>2</td>\n",
       "      <td>171.2</td>\n",
       "      <td>...</td>\n",
       "      <td>NaN</td>\n",
       "      <td>1.0</td>\n",
       "      <td>3159.0</td>\n",
       "      <td>1.0</td>\n",
       "      <td>NaT</td>\n",
       "      <td>NaT</td>\n",
       "      <td>NaN</td>\n",
       "      <td>NaN</td>\n",
       "      <td>NaT</td>\n",
       "      <td>1.0</td>\n",
       "    </tr>\n",
       "  </tbody>\n",
       "</table>\n",
       "<p>5 rows × 207 columns</p>\n",
       "</div>"
      ],
      "text/plain": [
       "   Case_ID  frac1  frac2  frac3     OPdate      ABLEID  Age Room  Sex     Ht  \\\n",
       "0        0    0.0    0.0    NaN 2011-07-01  1195890799   49  D02    1  155.3   \n",
       "1        1    0.0    0.0    NaN 2011-07-05  1196102763   48  D02    2  166.6   \n",
       "2        2    0.0    0.0    NaN 2011-07-05  1197701254   55  D06    2  168.3   \n",
       "3        3    0.0    0.0    NaN 2011-07-06  1197157572   42  D06    2  173.3   \n",
       "4        4    0.0    0.0    NaN 2011-07-06  1183766718   57  D02    2  171.2   \n",
       "\n",
       "   ...  IHM  Final_IHM  HCC_SUD  Final_HCC  Recur_death   HCC_date  HCCrecur  \\\n",
       "0  ...  NaN        1.0    692.0        2.0   2013-05-23 2013-05-23       2.0   \n",
       "1  ...  NaN        1.0    771.0        2.0   2013-08-14 2013-08-14       2.0   \n",
       "2  ...  NaN        1.0    119.0        2.0   2011-11-01 2011-11-01       2.0   \n",
       "3  ...  NaN        1.0   3159.0        1.0          NaT        NaT       NaN   \n",
       "4  ...  NaN        1.0   3159.0        1.0          NaT        NaT       NaN   \n",
       "\n",
       "   HBV재발  HBV재발_date  SalvageLT  \n",
       "0    NaN         NaT        1.0  \n",
       "1    2.0  2013-11-27        2.0  \n",
       "2    NaN         NaT        1.0  \n",
       "3    NaN         NaT        1.0  \n",
       "4    NaN         NaT        1.0  \n",
       "\n",
       "[5 rows x 207 columns]"
      ]
     },
     "execution_count": 5,
     "metadata": {},
     "output_type": "execute_result"
    }
   ],
   "source": [
    "df = pd.read_excel(\"initial_docs/LT_Recipient_MBPAKI_afterExclusion.xlsx\", skiprows=7)\n",
    "df.head()"
   ]
  },
  {
   "cell_type": "markdown",
   "metadata": {},
   "source": [
    "    Criteria\n",
    "    \n",
    "        - 가장일반적인 간이식 수술종류만을 선택\n",
    "            BX-CE 열 : OLT-1, ABOi-1, Dual-1, Re_TPL-1, EM_Elec-2, Donor_exchange-1, C_split-1, PED-1\n",
    "        - 수술 대량출혈환자를 제외\n",
    "            DE 열 MassTF-1만 선택\n",
    "        - CaseID 열부터 DBP_mean7열까지 선택"
   ]
  },
  {
   "cell_type": "code",
   "execution_count": 6,
   "metadata": {},
   "outputs": [
    {
     "data": {
      "text/plain": [
       "(1250, 164)"
      ]
     },
     "metadata": {},
     "output_type": "display_data"
    }
   ],
   "source": [
    "temp = df[(df['MassTF']==1) & (df['OLT']==1) & (df['ABOI']==1) &\\\n",
    "           (df['Dual']==1) & (df['Re_TPL']==1) & (df['EM_Elec']==2) &\\\n",
    "           (df['Donor_exchange']==1) & (df['C_split']==1) & \\\n",
    "           (df['PED']==1)]\n",
    "data = temp.loc[:, 'Case_ID':'DBP_mean7']\n",
    "display(data.shape)"
   ]
  },
  {
   "cell_type": "markdown",
   "metadata": {},
   "source": [
    "#### 결측값 \n",
    " - 25% 이상되는 변수들은 무엇인가?"
   ]
  },
  {
   "cell_type": "code",
   "execution_count": 7,
   "metadata": {},
   "outputs": [
    {
     "data": {
      "text/html": [
       "<div>\n",
       "<style scoped>\n",
       "    .dataframe tbody tr th:only-of-type {\n",
       "        vertical-align: middle;\n",
       "    }\n",
       "\n",
       "    .dataframe tbody tr th {\n",
       "        vertical-align: top;\n",
       "    }\n",
       "\n",
       "    .dataframe thead th {\n",
       "        text-align: right;\n",
       "    }\n",
       "</style>\n",
       "<table border=\"1\" class=\"dataframe\">\n",
       "  <thead>\n",
       "    <tr style=\"text-align: right;\">\n",
       "      <th></th>\n",
       "      <th>column_name</th>\n",
       "      <th>ratio_missing</th>\n",
       "    </tr>\n",
       "  </thead>\n",
       "  <tbody>\n",
       "    <tr>\n",
       "      <th>frac3</th>\n",
       "      <td>frac3</td>\n",
       "      <td>0.7456</td>\n",
       "    </tr>\n",
       "    <tr>\n",
       "      <th>TPE</th>\n",
       "      <td>TPE</td>\n",
       "      <td>0.8952</td>\n",
       "    </tr>\n",
       "    <tr>\n",
       "      <th>FMS</th>\n",
       "      <td>FMS</td>\n",
       "      <td>0.9864</td>\n",
       "    </tr>\n",
       "    <tr>\n",
       "      <th>Cell_saver</th>\n",
       "      <td>Cell_saver</td>\n",
       "      <td>0.8784</td>\n",
       "    </tr>\n",
       "    <tr>\n",
       "      <th>Levo_mcg</th>\n",
       "      <td>Levo_mcg</td>\n",
       "      <td>0.9864</td>\n",
       "    </tr>\n",
       "    <tr>\n",
       "      <th>Cr_postreper</th>\n",
       "      <td>Cr_postreper</td>\n",
       "      <td>0.5168</td>\n",
       "    </tr>\n",
       "    <tr>\n",
       "      <th>Tnl_preah</th>\n",
       "      <td>Tnl_preah</td>\n",
       "      <td>0.9856</td>\n",
       "    </tr>\n",
       "    <tr>\n",
       "      <th>TnI_pod2</th>\n",
       "      <td>TnI_pod2</td>\n",
       "      <td>0.3992</td>\n",
       "    </tr>\n",
       "    <tr>\n",
       "      <th>TnI_pod3</th>\n",
       "      <td>TnI_pod3</td>\n",
       "      <td>0.6504</td>\n",
       "    </tr>\n",
       "    <tr>\n",
       "      <th>TnI_pod4</th>\n",
       "      <td>TnI_pod4</td>\n",
       "      <td>0.7736</td>\n",
       "    </tr>\n",
       "    <tr>\n",
       "      <th>TnI_pod5</th>\n",
       "      <td>TnI_pod5</td>\n",
       "      <td>0.8648</td>\n",
       "    </tr>\n",
       "    <tr>\n",
       "      <th>TnI_pod6</th>\n",
       "      <td>TnI_pod6</td>\n",
       "      <td>0.9056</td>\n",
       "    </tr>\n",
       "    <tr>\n",
       "      <th>TnI_pod7</th>\n",
       "      <td>TnI_pod7</td>\n",
       "      <td>0.9424</td>\n",
       "    </tr>\n",
       "  </tbody>\n",
       "</table>\n",
       "</div>"
      ],
      "text/plain": [
       "               column_name  ratio_missing\n",
       "frac3                frac3         0.7456\n",
       "TPE                    TPE         0.8952\n",
       "FMS                    FMS         0.9864\n",
       "Cell_saver      Cell_saver         0.8784\n",
       "Levo_mcg          Levo_mcg         0.9864\n",
       "Cr_postreper  Cr_postreper         0.5168\n",
       "Tnl_preah        Tnl_preah         0.9856\n",
       "TnI_pod2          TnI_pod2         0.3992\n",
       "TnI_pod3          TnI_pod3         0.6504\n",
       "TnI_pod4          TnI_pod4         0.7736\n",
       "TnI_pod5          TnI_pod5         0.8648\n",
       "TnI_pod6          TnI_pod6         0.9056\n",
       "TnI_pod7          TnI_pod7         0.9424"
      ]
     },
     "execution_count": 7,
     "metadata": {},
     "output_type": "execute_result"
    }
   ],
   "source": [
    "percent_missing = data.isnull().sum() / len(data)\n",
    "missing_value_data = pd.DataFrame({'column_name': data.columns,\n",
    "                                 'ratio_missing': percent_missing})\n",
    "missing_value_data[missing_value_data['ratio_missing']>0.25]"
   ]
  },
  {
   "attachments": {},
   "cell_type": "markdown",
   "metadata": {},
   "source": [
    "1. Correlation Coefficient가 0.85이상임 (왼족변수 삭제, 오른쪽 변수 남김)\n",
    "\n",
    "BSA ~ Wt\n",
    "\n",
    "TIT ~ CIT\n",
    "\n",
    "CTP ~ MELD\n",
    "\n",
    "CTPGr ~ MELD\n",
    "\n",
    "MELD_Na ~ MELD\n",
    "\n",
    "INR_MELD ~ MELD\n",
    "\n",
    "Alb_CTP ~ Alb\n",
    "\n",
    "FFP ~ RBC\n",
    "\n",
    "Pre_Vasopressin ~ Pre_Epinephrine\n",
    "\n",
    "AP_PC ~ AP\n",
    "\n",
    "op_Norepi ~ Op_Ino\n"
   ]
  },
  {
   "cell_type": "markdown",
   "metadata": {},
   "source": [
    "2. 다음의 변수는 값의 종류가 한가지임 \n",
    "\n",
    "CKD, HRS, preRRT, Renal_replace_type, Pre_Dobutamine, Pre_Dopamine, Pre_Terlipressin, Pre_Isoket, IntraCRRT, op_Dopaf"
   ]
  },
  {
   "cell_type": "markdown",
   "metadata": {},
   "source": [
    "3. post LT operation variables\n",
    "\n",
    "TnI_pod2, TnI_pod3, TnI_pod4, TnI_pod5, TnI_pod6, TnI_pod7, post_RBC, post_FFP, Cryo_post, AP_post, PC_post"
   ]
  },
  {
   "cell_type": "code",
   "execution_count": 8,
   "metadata": {},
   "outputs": [
    {
     "data": {
      "text/plain": [
       "(1250, 117)"
      ]
     },
     "metadata": {},
     "output_type": "display_data"
    }
   ],
   "source": [
    "data.drop(columns = ['frac1', 'frac2', 'frac3', 'ABLEID', 'MassTF', 'OLT', \n",
    "                     'ABOI', 'Dual', 'Re_TPL',  'EM_Elec', 'Donor_exchange',\n",
    "                     'C_split', 'PED', 'AKI', 'AKIgr', 'EAD_OLT', 'EAD', \n",
    "                     'TPE', 'FMS', 'Cell_saver', 'Cr_postreper', 'Tnl_preah',\n",
    "                     'Case_ID', '마취시작시간', '마취종료시간', 'OPdate', 'MELD_Na',\n",
    "                     'CTP', 'CTPGr', 'BSA', 'TB_MELD', 'INR_MELD', 'Alb_CTP', \n",
    "                     'TIT', 'AP_PC', 'op_Norepi', 'TnI_pod2', 'TnI_pod3',\n",
    "                     'TnI_pod4', 'TnI_pod5', 'TnI_pod6', 'TnI_pod7', 'post_RBC', \n",
    "                     'post_FFP', 'Cryo_post', 'AP_post', 'PC_post'], inplace=True)\n",
    "display(data.shape)"
   ]
  },
  {
   "cell_type": "code",
   "execution_count": 9,
   "metadata": {},
   "outputs": [],
   "source": [
    "# 사건의 단위들은 모두 hour변경\n",
    "data['Reperfusion'] = pd.to_datetime(data['Reperfusion'])\n",
    "data['opBgn2Reperf_hr'] = (data['Reperfusion'] - data['R_Proc시작_able'])/ np.timedelta64(1, 'h')\n",
    "data['Reperf2opTer_hr'] = (data['R_Proc종료_able'] - data['Reperfusion'])/ np.timedelta64(1, 'h')\n",
    "data['anes_dur_hr'] = data['ANES_time'] / 60.\n",
    "data['op_bgn_hr'] = data['수술시작일시'].dt.hour\n",
    "data['op_ter_hr'] = data['수술종료시간'].dt.hour\n",
    "data['op_mon'] = data['수술시작일시'].dt.month\n",
    "data['op_yr'] = data['수술시작일시'].dt.year\n",
    "data['CIT'] = data['CIT']/60\n",
    "data['WIT'] = data['WIT']/60\n"
   ]
  },
  {
   "cell_type": "code",
   "execution_count": 10,
   "metadata": {},
   "outputs": [],
   "source": [
    "data.drop(columns=['R_Proc시작_able', 'R_Proc종료_able', 'ICE들어간시간', 'ICE나온시간', 'Reperfusion', \n",
    "                  'ANES_time', 'OP_time', '수술시작일시', '수술종료시간', 'CKD', 'HRS', 'preRRT', \n",
    "                  'Renal_replace_type', 'Pre_Dobutamine', 'Pre_Dopamine', 'Pre_Terlipressin', \n",
    "                  'Pre_Isoket', 'IntraCRRT', 'op_Dopa', 'Pre_Vasopressin'], inplace=True)"
   ]
  },
  {
   "cell_type": "code",
   "execution_count": 11,
   "metadata": {},
   "outputs": [
    {
     "data": {
      "text/plain": [
       "Index(['Age', 'Room', 'Sex', 'Ht', 'Wt', 'BMI', 'Cr_MELD', 'Na_MELD', 'MELD',\n",
       "       'DM_Tx',\n",
       "       ...\n",
       "       'HR_mean7', 'SBP_mean7', 'DBP_mean7', 'opBgn2Reperf_hr',\n",
       "       'Reperf2opTer_hr', 'anes_dur_hr', 'op_bgn_hr', 'op_ter_hr', 'op_mon',\n",
       "       'op_yr'],\n",
       "      dtype='object', length=104)"
      ]
     },
     "execution_count": 11,
     "metadata": {},
     "output_type": "execute_result"
    }
   ],
   "source": [
    "data.columns"
   ]
  },
  {
   "cell_type": "markdown",
   "metadata": {},
   "source": [
    "#### Room 숫자 코딩"
   ]
  },
  {
   "cell_type": "code",
   "execution_count": 12,
   "metadata": {},
   "outputs": [
    {
     "data": {
      "text/plain": [
       "D02    680\n",
       "D06    567\n",
       "D01      3\n",
       "Name: Room, dtype: int64"
      ]
     },
     "execution_count": 12,
     "metadata": {},
     "output_type": "execute_result"
    }
   ],
   "source": [
    "data['Room'].value_counts()"
   ]
  },
  {
   "cell_type": "code",
   "execution_count": 13,
   "metadata": {},
   "outputs": [],
   "source": [
    "data['Room'] = data['Room'].apply(lambda x: re.search(r'D([0-9]+)', x).group(1))"
   ]
  },
  {
   "cell_type": "code",
   "execution_count": 14,
   "metadata": {},
   "outputs": [],
   "source": [
    "data['Room'] = data['Room'].astype(int)"
   ]
  },
  {
   "cell_type": "markdown",
   "metadata": {},
   "source": [
    "#### GFR_MDRD 숫자 코딩\n",
    "- NaN은 NaN"
   ]
  },
  {
   "cell_type": "code",
   "execution_count": 15,
   "metadata": {},
   "outputs": [
    {
     "data": {
      "text/plain": [
       "(51, 104)"
      ]
     },
     "execution_count": 15,
     "metadata": {},
     "output_type": "execute_result"
    }
   ],
   "source": [
    "data[data['GFR_MDRD'].isnull()].shape"
   ]
  },
  {
   "cell_type": "code",
   "execution_count": 16,
   "metadata": {},
   "outputs": [],
   "source": [
    "data['GFR_MDRD'] = data['GFR_MDRD'].apply(lambda x: re.search(r'([0-9]+)\\(', str(x)).group(1)\n",
    "                                         if re.search(r'\\(', str(x)) else x)"
   ]
  },
  {
   "cell_type": "code",
   "execution_count": 17,
   "metadata": {},
   "outputs": [
    {
     "data": {
      "text/plain": [
       "(51, 104)"
      ]
     },
     "execution_count": 17,
     "metadata": {},
     "output_type": "execute_result"
    }
   ],
   "source": [
    "data[data['GFR_MDRD'].isnull()].shape"
   ]
  },
  {
   "cell_type": "markdown",
   "metadata": {},
   "source": [
    "### Organism binarizing\n",
    "- Organism이 검출되면, 2 그렇지 않으면 1 (='*'), NaN은 NaN"
   ]
  },
  {
   "cell_type": "code",
   "execution_count": 18,
   "metadata": {},
   "outputs": [
    {
     "data": {
      "text/plain": [
       "(18, 104)"
      ]
     },
     "execution_count": 18,
     "metadata": {},
     "output_type": "execute_result"
    }
   ],
   "source": [
    "data[data['Organism'].isnull()].shape\n",
    "#data['Organism'].value_counts()"
   ]
  },
  {
   "cell_type": "code",
   "execution_count": 19,
   "metadata": {},
   "outputs": [
    {
     "data": {
      "text/plain": [
       "(43, 104)"
      ]
     },
     "execution_count": 19,
     "metadata": {},
     "output_type": "execute_result"
    }
   ],
   "source": [
    "data[data['Organism'].str.contains(r'[a-zA-Z0-9]+', na=False)].shape"
   ]
  },
  {
   "cell_type": "code",
   "execution_count": 20,
   "metadata": {},
   "outputs": [
    {
     "data": {
      "text/plain": [
       "(1188, 104)"
      ]
     },
     "execution_count": 20,
     "metadata": {},
     "output_type": "execute_result"
    }
   ],
   "source": [
    "data[data['Organism'].str.contains('^\\*', na=False)].shape"
   ]
  },
  {
   "cell_type": "code",
   "execution_count": 21,
   "metadata": {},
   "outputs": [],
   "source": [
    "data['Organism'] = data['Organism'].apply(lambda x: 1 if re.search('^\\*', str(x))\n",
    "                                          else (2 if pd.notnull(x) else x))"
   ]
  },
  {
   "cell_type": "code",
   "execution_count": 22,
   "metadata": {},
   "outputs": [
    {
     "data": {
      "text/plain": [
       "(44, 104)"
      ]
     },
     "execution_count": 22,
     "metadata": {},
     "output_type": "execute_result"
    }
   ],
   "source": [
    "data[data['Organism']==2].shape"
   ]
  },
  {
   "cell_type": "code",
   "execution_count": 23,
   "metadata": {},
   "outputs": [
    {
     "data": {
      "text/plain": [
       "(1188, 104)"
      ]
     },
     "execution_count": 23,
     "metadata": {},
     "output_type": "execute_result"
    }
   ],
   "source": [
    "data[data['Organism']==1].shape"
   ]
  },
  {
   "cell_type": "markdown",
   "metadata": {},
   "source": [
    "#### SPAA binarizing\n",
    "- 1로 시작하면 1, 2로 시작하면 2, '*'와 NaN은 NaN"
   ]
  },
  {
   "cell_type": "code",
   "execution_count": 24,
   "metadata": {},
   "outputs": [
    {
     "data": {
      "text/plain": [
       "1                                                                                    1115\n",
       "2                                                                                      18\n",
       "*                                                                                       4\n",
       "2.Splenic a. aneurysms. Large amount of spontaneous portosystemic shunt into LRV.       1\n",
       "2.Splenic hilum의 아래쪽으로 splenic artery origin의 장경 2 cm aneurysm이 있음(2015.3.31 CT)        1\n",
       "2. r/o                                                                                  1\n",
       "2(proximal lig.-회의록에 기입되있음)                                                             1\n",
       "Name: SPAA, dtype: int64"
      ]
     },
     "execution_count": 24,
     "metadata": {},
     "output_type": "execute_result"
    }
   ],
   "source": [
    "data['SPAA'].value_counts()"
   ]
  },
  {
   "cell_type": "code",
   "execution_count": 25,
   "metadata": {},
   "outputs": [],
   "source": [
    "data['SPAA'] = data['SPAA'].apply(lambda x: 1 if re.search(r'^1', str(x))\n",
    "                                  else (2 if re.search(r'^2', str(x)) else np.nan))"
   ]
  },
  {
   "cell_type": "code",
   "execution_count": 26,
   "metadata": {},
   "outputs": [
    {
     "data": {
      "text/plain": [
       "1.0    1115\n",
       "2.0      22\n",
       "Name: SPAA, dtype: int64"
      ]
     },
     "execution_count": 26,
     "metadata": {},
     "output_type": "execute_result"
    }
   ],
   "source": [
    "data['SPAA'].value_counts()"
   ]
  },
  {
   "cell_type": "markdown",
   "metadata": {},
   "source": [
    "#### 변수 값이 한 종류만 있는 의미없는 변수 존재하나?"
   ]
  },
  {
   "cell_type": "code",
   "execution_count": 27,
   "metadata": {},
   "outputs": [],
   "source": [
    "for i, col in enumerate(data.columns) :\n",
    "    if len(data[col].value_counts()) < 2 :\n",
    "        print(col, data[col].value_counts())"
   ]
  },
  {
   "cell_type": "markdown",
   "metadata": {},
   "source": [
    "#### 계급값이 15이하인 것을 categorical variables로 일단 보자"
   ]
  },
  {
   "cell_type": "code",
   "execution_count": 28,
   "metadata": {
    "scrolled": true
   },
   "outputs": [
    {
     "name": "stdout",
     "output_type": "stream",
     "text": [
      "Room\n",
      "Sex\n",
      "DM_Tx\n",
      "HTN\n",
      "CAD\n",
      "CHF\n",
      "PCI_CABG\n",
      "CVA\n",
      "RCRI\n",
      "BB\n",
      "ACEI_ARB\n",
      "Lasix\n",
      "Aldactone\n",
      "CCB\n",
      "Statin\n",
      "AntiPLT\n",
      "AntiCoa\n",
      "Aspirin\n",
      "Afib\n",
      "BBB\n",
      "HBV\n",
      "HCV\n",
      "Alc\n",
      "Biliary\n",
      "Toxic\n",
      "Others\n",
      "HCC\n",
      "FHF\n",
      "Varixbl_LTS\n",
      "SBP_abd\n",
      "IntractableAscites\n",
      "Hydrothorax\n",
      "HEP\n",
      "Mental\n",
      "Loc\n",
      "preVent\n",
      "Liver_replace\n",
      "Pneumonia\n",
      "Bacteremia\n",
      "Organism\n",
      "Sepsis\n",
      "Pre_Norepinephrine\n",
      "Pre_Epinephrine\n",
      "PVT\n",
      "PVS\n",
      "SPAA\n",
      "Biopump\n",
      "AP\n",
      "PC\n",
      "op_Dobu\n",
      "op_Epi\n",
      "op_Vaso\n",
      "op_Terli\n",
      "op_Iso\n",
      "op_Ino\n",
      "PRS\n",
      "Epi_OX\n",
      "Levo_mcg\n",
      "Portography_intraop\n",
      "Cholangiography_intraop\n",
      "Splenoportography_intraop\n",
      "embolization_intraop\n",
      "Cr_pod\n",
      "op_bgn_hr\n",
      "op_mon\n",
      "op_yr\n"
     ]
    }
   ],
   "source": [
    "for i, col in enumerate(data.columns) :\n",
    "    if len(data[col].value_counts()) < 15: \n",
    "        print(col)  "
   ]
  },
  {
   "cell_type": "code",
   "execution_count": 34,
   "metadata": {},
   "outputs": [
    {
     "data": {
      "text/plain": [
       "Bacteremia     0.975631\n",
       "SBP_abd        0.139186\n",
       "preHD          0.134222\n",
       "preVent        0.101835\n",
       "MELD           0.097935\n",
       "                 ...   \n",
       "anes_dur_hr         NaN\n",
       "op_bgn_hr           NaN\n",
       "op_ter_hr           NaN\n",
       "op_mon              NaN\n",
       "op_yr               NaN\n",
       "Name: Organism, Length: 86, dtype: float64"
      ]
     },
     "execution_count": 34,
     "metadata": {},
     "output_type": "execute_result"
    }
   ],
   "source": [
    "# Create correlation matrix\n",
    "corr_matrix = data.corr(method='spearman').abs()\n",
    "\n",
    "# Select upper triangle of correlation matrix\n",
    "upper = corr_matrix.where(np.triu(np.ones(corr_matrix.shape), k=1).astype(np.bool))\n",
    "to_drop = [column for column in upper.columns if any(upper[column] > 0.85)]\n",
    "to_drop\n",
    "upper['Organism'].sort_values(ascending=False)"
   ]
  },
  {
   "cell_type": "markdown",
   "metadata": {},
   "source": [
    "#### Organism은 Bacteremia와 거의 동일 따라서 삭제"
   ]
  },
  {
   "cell_type": "code",
   "execution_count": 36,
   "metadata": {},
   "outputs": [],
   "source": [
    "data = data.drop(columns = ['Organism'])"
   ]
  },
  {
   "cell_type": "markdown",
   "metadata": {},
   "source": [
    "#### '*' 존재\n",
    "- 다음 3개의 열에서 Asterisk가 존재하지만 그 뜻을 알 수 없어서 일단 NaN으로 처리"
   ]
  },
  {
   "cell_type": "code",
   "execution_count": 37,
   "metadata": {},
   "outputs": [],
   "source": [
    "for col in ['Levo_mcg', 'PVT', 'PVS'] :\n",
    "    data[col] = data[col].replace('*', np.nan)"
   ]
  },
  {
   "cell_type": "code",
   "execution_count": 38,
   "metadata": {},
   "outputs": [],
   "source": [
    "data = data.replace('없음', np.nan) #Cys_C_GFR, Intraop_Steroid 열에 '없음'이란 값이 존재하지만 무슨 뜻인지 몰라 NaN처리"
   ]
  },
  {
   "cell_type": "code",
   "execution_count": 39,
   "metadata": {},
   "outputs": [],
   "source": [
    "data.to_csv('troponin_pod1_regression_input.csv', index=False)"
   ]
  }
 ],
 "metadata": {
  "kernelspec": {
   "display_name": "Python 3",
   "language": "python",
   "name": "python3"
  },
  "language_info": {
   "codemirror_mode": {
    "name": "ipython",
    "version": 3
   },
   "file_extension": ".py",
   "mimetype": "text/x-python",
   "name": "python",
   "nbconvert_exporter": "python",
   "pygments_lexer": "ipython3",
   "version": "3.7.4"
  }
 },
 "nbformat": 4,
 "nbformat_minor": 4
}
